{
 "cells": [
  {
   "cell_type": "code",
   "execution_count": 214,
   "metadata": {},
   "outputs": [],
   "source": [
    "import requests\n",
    "from bs4 import BeautifulSoup\n",
    "import re\n",
    "import nltk\n",
    "from nltk.tokenize import word_tokenize\n",
    "from nltk.probability import FreqDist\n",
    "import pymorphy2\n",
    "morph = pymorphy2.MorphAnalyzer()\n"
   ]
  },
  {
   "cell_type": "markdown",
   "metadata": {},
   "source": [
    "# Парсинг"
   ]
  },
  {
   "cell_type": "code",
   "execution_count": 83,
   "metadata": {},
   "outputs": [],
   "source": [
    "companies = []\n",
    "\n",
    "for i in range(1, 10):\n",
    "    url1 = 'https://www.yell.ru/moscow/top/lechebnye-kosmetologii/?page=' + str(i)\n",
    "    response1 = requests.get(url1)\n",
    "    soup1 = BeautifulSoup(response1.text, 'lxml')\n",
    "    webs = soup1.find_all('a', class_='companies__item-title-text')\n",
    "    for j in range(len(webs)):\n",
    "        companies.append('https://www.yell.ru'+str(webs[j].get('href'))+'reviews/')\n"
   ]
  },
  {
   "cell_type": "code",
   "execution_count": 102,
   "metadata": {},
   "outputs": [
    {
     "data": {
      "text/plain": [
       "['https://www.yell.ru/moscow/com/centr-krasoty-zazerkale_6522021/reviews/',\n",
       " 'https://www.yell.ru/moscow/com/centr-kosmetologii-virsaviya_11971120/reviews/',\n",
       " 'https://www.yell.ru/moscow/com/sm-stomatologiya-na-ulitse-kosmonavta-volkova_11893311/reviews/',\n",
       " 'https://www.yell.ru/moscow/com/institut-zdorovya-i-krasoty-niarmedik_12464505/reviews/',\n",
       " 'https://www.yell.ru/moscow/com/beauty-center-through-the-looking-glass_2687945/reviews/']"
      ]
     },
     "execution_count": 102,
     "metadata": {},
     "output_type": "execute_result"
    }
   ],
   "source": [
    "companies[:5]\n"
   ]
  },
  {
   "cell_type": "code",
   "execution_count": null,
   "metadata": {},
   "outputs": [],
   "source": [
    "# пусть хорошие отзывы имеют оценки 4-5, а плохие 0-3\n",
    "\n",
    "good_reviews = []\n",
    "bad_reviews = []\n",
    "\n",
    "for url in companies:\n",
    "    response = requests.get(url)\n",
    "    soup = BeautifulSoup(response.text, 'lxml')\n",
    "    quotes = soup.find_all('div', class_='reviews__item')\n",
    "    for quote in quotes:\n",
    "        text_pattern = 'data-review=\\'\\{([^}]+)'\n",
    "        mark_pattern = 'rating__value\\\">\\n        ([^ ]+)'\n",
    "        text = re.findall(text_pattern, str(quote))\n",
    "        txt = re.findall('\\\"text\\\":\\\"([^\\\"]+)', text[0])\n",
    "        mark = re.findall(mark_pattern, str(quote))\n",
    "        try:\n",
    "            if int(mark[0]) >= 4:\n",
    "                good_reviews.append(txt[0])\n",
    "            else:\n",
    "                bad_reviews.append(txt[0])\n",
    "        except:\n",
    "            \n",
    "            break\n"
   ]
  },
  {
   "cell_type": "code",
   "execution_count": 387,
   "metadata": {},
   "outputs": [
    {
     "name": "stdout",
     "output_type": "stream",
     "text": [
      "Хороших отзывов: 3635 \n",
      "Плохих отзывов: 593\n"
     ]
    }
   ],
   "source": [
    "print('Хороших отзывов:', len(good_reviews), '\\nПлохих отзывов:', len(bad_reviews))\n"
   ]
  },
  {
   "cell_type": "code",
   "execution_count": 394,
   "metadata": {},
   "outputs": [
    {
     "name": "stdout",
     "output_type": "stream",
     "text": [
      "Хороших отзывов: 500 \n",
      "Плохих отзывов: 500 \n",
      "Отзывов для проверки: 693\n"
     ]
    }
   ],
   "source": [
    "main_bad_reviews = bad_reviews[:500]\n",
    "main_good_reviews = good_reviews[:500]\n",
    "\n",
    "bad_rev_check = bad_reviews[500:593]\n",
    "good_rev_check = good_reviews[100:700]\n",
    "\n",
    "# Кажется, то, что количество хороших и плохих отзывов отличается, никак не влияет на подсчет accuracy.\n",
    "\n",
    "check_reviews = []\n",
    "check_reviews.extend(bad_rev_check)\n",
    "check_reviews.extend(good_rev_check)\n",
    "\n",
    "print('Хороших отзывов:', len(main_bad_reviews), '\\nПлохих отзывов:', len(main_good_reviews), '\\nОтзывов для проверки:', len(check_reviews))\n"
   ]
  },
  {
   "cell_type": "markdown",
   "metadata": {},
   "source": [
    "# Препроцессинг"
   ]
  },
  {
   "cell_type": "code",
   "execution_count": 299,
   "metadata": {},
   "outputs": [],
   "source": [
    "def get_list_of_lemmatized_words(reviews):\n",
    "    \n",
    "    reviews_words = []\n",
    "    \n",
    "    for review in reviews:\n",
    "        review = re.sub(r'([^\\w\\s]|\\d|_)', '', review).lower()\n",
    "        review = re.sub('n|u|rn', ' ', review) # почему-то между слов периодически встречается такая пара символов\n",
    "        \n",
    "        tokenized_review = word_tokenize(review, 'russian')\n",
    "        for word in tokenized_review:\n",
    "            w = morph.parse(word)[0].normal_form\n",
    "            reviews_words.append(w)\n",
    "            \n",
    "    return reviews_words\n"
   ]
  },
  {
   "cell_type": "code",
   "execution_count": 302,
   "metadata": {},
   "outputs": [],
   "source": [
    "bad_reviews_words = get_list_of_lemmatized_words(main_bad_reviews)\n",
    "good_reviews_words = get_list_of_lemmatized_words(main_good_reviews)\n"
   ]
  },
  {
   "cell_type": "code",
   "execution_count": 237,
   "metadata": {},
   "outputs": [
    {
     "name": "stdout",
     "output_type": "stream",
     "text": [
      "Слов в плохих отзывах: 36255 \n",
      "Слов в хороших отзывах: 24272\n"
     ]
    }
   ],
   "source": [
    "print('Слов в плохих отзывах:', len(bad_reviews_words), '\\nСлов в хороших отзывах:', len(good_reviews_words))\n"
   ]
  },
  {
   "cell_type": "code",
   "execution_count": 330,
   "metadata": {},
   "outputs": [],
   "source": [
    "def find_freq(words):\n",
    "    \n",
    "    freq_reviews_words = {}\n",
    "    \n",
    "    for word in words:\n",
    "        try:\n",
    "            freq_reviews_words[word] += 1\n",
    "        except:\n",
    "            freq_reviews_words[word] = 1\n",
    "            \n",
    "    return freq_reviews_words\n",
    "        "
   ]
  },
  {
   "cell_type": "code",
   "execution_count": 332,
   "metadata": {},
   "outputs": [],
   "source": [
    "freq_bad_reviews_words = find_freq(bad_reviews_words)\n",
    "freq_good_reviews_words = find_freq(good_reviews_words)\n"
   ]
  },
  {
   "cell_type": "code",
   "execution_count": 336,
   "metadata": {},
   "outputs": [],
   "source": [
    "words_bad_review_only = list(set(bad_reviews_words) - set(good_reviews_words))\n",
    "words_good_review_only = list(set(good_reviews_words) - set(bad_reviews_words))\n"
   ]
  },
  {
   "cell_type": "code",
   "execution_count": 338,
   "metadata": {},
   "outputs": [
    {
     "name": "stdout",
     "output_type": "stream",
     "text": [
      "Уникальных слов в плохих отзывах: 3594 \n",
      "Уникальных слов в хороших отзывах: 1481\n"
     ]
    }
   ],
   "source": [
    "print('Уникальных слов в плохих отзывах:', len(words_bad_review_only), '\\nУникальных слов в хороших отзывах:', len(words_good_review_only))\n"
   ]
  },
  {
   "cell_type": "code",
   "execution_count": 366,
   "metadata": {},
   "outputs": [],
   "source": [
    "def check_frequency(all_words, unique_words, freqq_words):\n",
    "    \n",
    "    needed_words = []\n",
    "    \n",
    "    for k, v in freqq_words.items():\n",
    "        if str(k) in unique_words and int(v) > 2:\n",
    "            needed_words.append(k)\n",
    "            \n",
    "    return needed_words\n",
    "            "
   ]
  },
  {
   "cell_type": "code",
   "execution_count": 367,
   "metadata": {},
   "outputs": [
    {
     "name": "stdout",
     "output_type": "stream",
     "text": [
      "36255 3594\n"
     ]
    }
   ],
   "source": [
    "print(len(bad_reviews_words), len(words_bad_review_only))\n"
   ]
  },
  {
   "cell_type": "code",
   "execution_count": 368,
   "metadata": {},
   "outputs": [],
   "source": [
    "needed_words_in_bad_reviews = check_frequency(bad_reviews_words, words_bad_review_only, freq_bad_reviews_words)\n",
    "needed_words_in_good_reviews = check_frequency(good_reviews_words, words_good_review_only, freq_good_reviews_words)\n"
   ]
  },
  {
   "cell_type": "markdown",
   "metadata": {},
   "source": [
    "# Оценка"
   ]
  },
  {
   "cell_type": "code",
   "execution_count": 396,
   "metadata": {},
   "outputs": [],
   "source": [
    "def check_unknown_comments(needed_words_bad, needed_words_good, comments):\n",
    "    \n",
    "    part_of_matches = {}\n",
    "    \n",
    "    for comment in comments:\n",
    "        match_words_good = 0\n",
    "        match_words_bad = 0\n",
    "        for word_good in needed_words_good:\n",
    "            if word_good in comment:\n",
    "                match_words_good += 1\n",
    "        for word_bad in needed_words_bad:\n",
    "            if word_bad in comment:\n",
    "                match_words_bad += 1\n",
    "                \n",
    "        if match_words_bad > match_words_good:\n",
    "            part_of_matches[comment] = 'bad'\n",
    "        if match_words_bad < match_words_good:\n",
    "            part_of_matches[comment] = 'good'\n",
    "        else:\n",
    "            part_of_matches[comment] = 'unknown'\n",
    "            \n",
    "    return part_of_matches\n"
   ]
  },
  {
   "cell_type": "code",
   "execution_count": 407,
   "metadata": {},
   "outputs": [
    {
     "name": "stdout",
     "output_type": "stream",
     "text": [
      "Accuracy: 0.0\n"
     ]
    }
   ],
   "source": [
    "first_part = check_unknown_comments(needed_words_in_bad_reviews, needed_words_in_good_reviews, comment)\n",
    "\n",
    "true_bad = 0\n",
    "false_bad = 0\n",
    "\n",
    "true_good = 0\n",
    "false_good = 0\n",
    "\n",
    "for bad_com in bad_rev_check:\n",
    "    try:\n",
    "        if first_part[bad_com]:\n",
    "            true_bad += 1\n",
    "    except:\n",
    "        false_bad += 1\n",
    "    \n",
    "for good_com in good_rev_check:\n",
    "    try:\n",
    "        if first_part[good_com]:\n",
    "            true_good += 1\n",
    "    except:\n",
    "        false_good += 1\n",
    "        \n",
    "accuracy = (true_bad+true_good)/(true_bad+true_good+false_bad+false_good)*100\n",
    "\n",
    "print('Accuracy:', accuracy)\n"
   ]
  },
  {
   "cell_type": "code",
   "execution_count": null,
   "metadata": {},
   "outputs": [],
   "source": []
  }
 ],
 "metadata": {
  "kernelspec": {
   "display_name": "Python 3",
   "language": "python",
   "name": "python3"
  },
  "language_info": {
   "codemirror_mode": {
    "name": "ipython",
    "version": 3
   },
   "file_extension": ".py",
   "mimetype": "text/x-python",
   "name": "python",
   "nbconvert_exporter": "python",
   "pygments_lexer": "ipython3",
   "version": "3.8.3"
  }
 },
 "nbformat": 4,
 "nbformat_minor": 4
}
